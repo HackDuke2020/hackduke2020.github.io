{
 "cells": [
  {
   "cell_type": "code",
   "execution_count": 1,
   "metadata": {},
   "outputs": [
    {
     "name": "stderr",
     "output_type": "stream",
     "text": [
      "Importing plotly failed. Interactive plots will not work.\n"
     ]
    }
   ],
   "source": [
    "import pandas as pd\n",
    "import numpy as np"
   ]
  },
  {
   "cell_type": "code",
   "execution_count": 2,
   "metadata": {},
   "outputs": [],
   "source": [
    "model = Prophet()"
   ]
  },
  {
   "cell_type": "code",
   "execution_count": 3,
   "metadata": {},
   "outputs": [
    {
     "data": {
      "text/html": [
       "<div>\n",
       "<style scoped>\n",
       "    .dataframe tbody tr th:only-of-type {\n",
       "        vertical-align: middle;\n",
       "    }\n",
       "\n",
       "    .dataframe tbody tr th {\n",
       "        vertical-align: top;\n",
       "    }\n",
       "\n",
       "    .dataframe thead th {\n",
       "        text-align: right;\n",
       "    }\n",
       "</style>\n",
       "<table border=\"1\" class=\"dataframe\">\n",
       "  <thead>\n",
       "    <tr style=\"text-align: right;\">\n",
       "      <th></th>\n",
       "      <th>Unnamed: 0</th>\n",
       "      <th>Province/State</th>\n",
       "      <th>Country/Region</th>\n",
       "      <th>Lat</th>\n",
       "      <th>Long</th>\n",
       "      <th>1/22/20</th>\n",
       "      <th>1/23/20</th>\n",
       "      <th>1/24/20</th>\n",
       "      <th>1/25/20</th>\n",
       "      <th>1/26/20</th>\n",
       "      <th>...</th>\n",
       "      <th>11/25/20</th>\n",
       "      <th>11/26/20</th>\n",
       "      <th>11/27/20</th>\n",
       "      <th>11/28/20</th>\n",
       "      <th>11/29/20</th>\n",
       "      <th>11/30/20</th>\n",
       "      <th>12/1/20</th>\n",
       "      <th>12/2/20</th>\n",
       "      <th>12/3/20</th>\n",
       "      <th>12/4/20</th>\n",
       "    </tr>\n",
       "  </thead>\n",
       "  <tbody>\n",
       "    <tr>\n",
       "      <th>0</th>\n",
       "      <td>0</td>\n",
       "      <td>NaN</td>\n",
       "      <td>Afghanistan</td>\n",
       "      <td>33.93911</td>\n",
       "      <td>67.709953</td>\n",
       "      <td>0</td>\n",
       "      <td>0</td>\n",
       "      <td>0</td>\n",
       "      <td>0</td>\n",
       "      <td>0</td>\n",
       "      <td>...</td>\n",
       "      <td>45384</td>\n",
       "      <td>45600</td>\n",
       "      <td>45723</td>\n",
       "      <td>45844</td>\n",
       "      <td>46116</td>\n",
       "      <td>46274</td>\n",
       "      <td>46516</td>\n",
       "      <td>46718</td>\n",
       "      <td>46837</td>\n",
       "      <td>46837</td>\n",
       "    </tr>\n",
       "    <tr>\n",
       "      <th>1</th>\n",
       "      <td>1</td>\n",
       "      <td>NaN</td>\n",
       "      <td>Albania</td>\n",
       "      <td>41.15330</td>\n",
       "      <td>20.168300</td>\n",
       "      <td>0</td>\n",
       "      <td>0</td>\n",
       "      <td>0</td>\n",
       "      <td>0</td>\n",
       "      <td>0</td>\n",
       "      <td>...</td>\n",
       "      <td>34944</td>\n",
       "      <td>35600</td>\n",
       "      <td>36245</td>\n",
       "      <td>36790</td>\n",
       "      <td>37625</td>\n",
       "      <td>38182</td>\n",
       "      <td>39014</td>\n",
       "      <td>39719</td>\n",
       "      <td>40501</td>\n",
       "      <td>41302</td>\n",
       "    </tr>\n",
       "    <tr>\n",
       "      <th>2</th>\n",
       "      <td>2</td>\n",
       "      <td>NaN</td>\n",
       "      <td>Algeria</td>\n",
       "      <td>28.03390</td>\n",
       "      <td>1.659600</td>\n",
       "      <td>0</td>\n",
       "      <td>0</td>\n",
       "      <td>0</td>\n",
       "      <td>0</td>\n",
       "      <td>0</td>\n",
       "      <td>...</td>\n",
       "      <td>78025</td>\n",
       "      <td>79110</td>\n",
       "      <td>80168</td>\n",
       "      <td>81212</td>\n",
       "      <td>82221</td>\n",
       "      <td>83199</td>\n",
       "      <td>84152</td>\n",
       "      <td>85084</td>\n",
       "      <td>85927</td>\n",
       "      <td>86730</td>\n",
       "    </tr>\n",
       "    <tr>\n",
       "      <th>3</th>\n",
       "      <td>3</td>\n",
       "      <td>NaN</td>\n",
       "      <td>Andorra</td>\n",
       "      <td>42.50630</td>\n",
       "      <td>1.521800</td>\n",
       "      <td>0</td>\n",
       "      <td>0</td>\n",
       "      <td>0</td>\n",
       "      <td>0</td>\n",
       "      <td>0</td>\n",
       "      <td>...</td>\n",
       "      <td>6428</td>\n",
       "      <td>6534</td>\n",
       "      <td>6610</td>\n",
       "      <td>6610</td>\n",
       "      <td>6712</td>\n",
       "      <td>6745</td>\n",
       "      <td>6790</td>\n",
       "      <td>6842</td>\n",
       "      <td>6904</td>\n",
       "      <td>6955</td>\n",
       "    </tr>\n",
       "    <tr>\n",
       "      <th>4</th>\n",
       "      <td>4</td>\n",
       "      <td>NaN</td>\n",
       "      <td>Angola</td>\n",
       "      <td>-11.20270</td>\n",
       "      <td>17.873900</td>\n",
       "      <td>0</td>\n",
       "      <td>0</td>\n",
       "      <td>0</td>\n",
       "      <td>0</td>\n",
       "      <td>0</td>\n",
       "      <td>...</td>\n",
       "      <td>14821</td>\n",
       "      <td>14920</td>\n",
       "      <td>15008</td>\n",
       "      <td>15087</td>\n",
       "      <td>15103</td>\n",
       "      <td>15139</td>\n",
       "      <td>15251</td>\n",
       "      <td>15319</td>\n",
       "      <td>15361</td>\n",
       "      <td>15493</td>\n",
       "    </tr>\n",
       "  </tbody>\n",
       "</table>\n",
       "<p>5 rows × 323 columns</p>\n",
       "</div>"
      ],
      "text/plain": [
       "   Unnamed: 0 Province/State Country/Region       Lat       Long  1/22/20  \\\n",
       "0           0            NaN    Afghanistan  33.93911  67.709953        0   \n",
       "1           1            NaN        Albania  41.15330  20.168300        0   \n",
       "2           2            NaN        Algeria  28.03390   1.659600        0   \n",
       "3           3            NaN        Andorra  42.50630   1.521800        0   \n",
       "4           4            NaN         Angola -11.20270  17.873900        0   \n",
       "\n",
       "   1/23/20  1/24/20  1/25/20  1/26/20  ...  11/25/20  11/26/20  11/27/20  \\\n",
       "0        0        0        0        0  ...     45384     45600     45723   \n",
       "1        0        0        0        0  ...     34944     35600     36245   \n",
       "2        0        0        0        0  ...     78025     79110     80168   \n",
       "3        0        0        0        0  ...      6428      6534      6610   \n",
       "4        0        0        0        0  ...     14821     14920     15008   \n",
       "\n",
       "   11/28/20  11/29/20  11/30/20  12/1/20  12/2/20  12/3/20  12/4/20  \n",
       "0     45844     46116     46274    46516    46718    46837    46837  \n",
       "1     36790     37625     38182    39014    39719    40501    41302  \n",
       "2     81212     82221     83199    84152    85084    85927    86730  \n",
       "3      6610      6712      6745     6790     6842     6904     6955  \n",
       "4     15087     15103     15139    15251    15319    15361    15493  \n",
       "\n",
       "[5 rows x 323 columns]"
      ]
     },
     "execution_count": 3,
     "metadata": {},
     "output_type": "execute_result"
    }
   ],
   "source": [
    "all_data = pd.read_csv('covid_cases.csv')\n",
    "all_data.head()"
   ]
  },
  {
   "cell_type": "code",
   "execution_count": 4,
   "metadata": {},
   "outputs": [
    {
     "data": {
      "text/plain": [
       "1/22/20    1\n",
       "1/23/20    1\n",
       "1/24/20    2\n",
       "1/25/20    2\n",
       "1/26/20    5\n",
       "Name: 246, dtype: object"
      ]
     },
     "execution_count": 4,
     "metadata": {},
     "output_type": "execute_result"
    }
   ],
   "source": [
    "us_cases = all_data[all_data['Country/Region'] == 'US']\n",
    "us_cases_by_day = us_cases.iloc[0,5:]\n",
    "us_cases_by_day.head()"
   ]
  },
  {
   "cell_type": "code",
   "execution_count": 5,
   "metadata": {},
   "outputs": [
    {
     "name": "stdout",
     "output_type": "stream",
     "text": [
      "318\n",
      "317\n"
     ]
    }
   ],
   "source": [
    "print(len(us_cases_by_day))\n",
    "daily_increases = [(us_cases_by_day[i+1]-us_cases_by_day[i]) for i in range(0,len(us_cases_by_day)-1)]\n",
    "print(len(daily_increases))"
   ]
  },
  {
   "cell_type": "code",
   "execution_count": 6,
   "metadata": {},
   "outputs": [],
   "source": [
    "import matplotlib.pyplot as plt"
   ]
  },
  {
   "cell_type": "code",
   "execution_count": 7,
   "metadata": {},
   "outputs": [
    {
     "data": {
      "image/png": "[encoded data removed]",
      "text/plain": [
       "<Figure size 432x288 with 1 Axes>"
      ]
     },
     "metadata": {
      "needs_background": "light"
     },
     "output_type": "display_data"
    }
   ],
   "source": [
    "plt.plot(np.arange(1,len(us_cases_by_day)+1), np.array(us_cases_by_day.values))\n",
    "plt.show()"
   ]
  },
  {
   "cell_type": "code",
   "execution_count": 8,
   "metadata": {},
   "outputs": [
    {
     "data": {
      "image/png": "[encoded data removed]",
      "text/plain": [
       "<Figure size 432x288 with 1 Axes>"
      ]
     },
     "metadata": {
      "needs_background": "light"
     },
     "output_type": "display_data"
    }
   ],
   "source": [
    "us_data = us_cases_by_day[40:]\n",
    "plt.plot(np.arange(1,len(us_data)+1), np.array(us_data.values))\n",
    "plt.show()"
   ]
  },
  {
   "cell_type": "code",
   "execution_count": 9,
   "metadata": {},
   "outputs": [
    {
     "data": {
      "text/plain": [
       "3/2/20            55\n",
       "3/3/20            74\n",
       "3/4/20           107\n",
       "3/5/20           184\n",
       "3/6/20           237\n",
       "              ...   \n",
       "11/30/20    13541221\n",
       "12/1/20     13721858\n",
       "12/2/20     13921913\n",
       "12/3/20     14139577\n",
       "12/4/20     14367462\n",
       "Name: 246, Length: 278, dtype: object"
      ]
     },
     "execution_count": 9,
     "metadata": {},
     "output_type": "execute_result"
    }
   ],
   "source": [
    "us_data"
   ]
  },
  {
   "cell_type": "code",
   "execution_count": 10,
   "metadata": {},
   "outputs": [
    {
     "data": {
      "text/html": [
       "<div>\n",
       "<style scoped>\n",
       "    .dataframe tbody tr th:only-of-type {\n",
       "        vertical-align: middle;\n",
       "    }\n",
       "\n",
       "    .dataframe tbody tr th {\n",
       "        vertical-align: top;\n",
       "    }\n",
       "\n",
       "    .dataframe thead th {\n",
       "        text-align: right;\n",
       "    }\n",
       "</style>\n",
       "<table border=\"1\" class=\"dataframe\">\n",
       "  <thead>\n",
       "    <tr style=\"text-align: right;\">\n",
       "      <th></th>\n",
       "      <th>ds</th>\n",
       "      <th>y</th>\n",
       "    </tr>\n",
       "  </thead>\n",
       "  <tbody>\n",
       "    <tr>\n",
       "      <th>0</th>\n",
       "      <td>3/2/20</td>\n",
       "      <td>55</td>\n",
       "    </tr>\n",
       "    <tr>\n",
       "      <th>1</th>\n",
       "      <td>3/3/20</td>\n",
       "      <td>74</td>\n",
       "    </tr>\n",
       "    <tr>\n",
       "      <th>2</th>\n",
       "      <td>3/4/20</td>\n",
       "      <td>107</td>\n",
       "    </tr>\n",
       "    <tr>\n",
       "      <th>3</th>\n",
       "      <td>3/5/20</td>\n",
       "      <td>184</td>\n",
       "    </tr>\n",
       "    <tr>\n",
       "      <th>4</th>\n",
       "      <td>3/6/20</td>\n",
       "      <td>237</td>\n",
       "    </tr>\n",
       "    <tr>\n",
       "      <th>...</th>\n",
       "      <td>...</td>\n",
       "      <td>...</td>\n",
       "    </tr>\n",
       "    <tr>\n",
       "      <th>273</th>\n",
       "      <td>11/30/20</td>\n",
       "      <td>13541221</td>\n",
       "    </tr>\n",
       "    <tr>\n",
       "      <th>274</th>\n",
       "      <td>12/1/20</td>\n",
       "      <td>13721858</td>\n",
       "    </tr>\n",
       "    <tr>\n",
       "      <th>275</th>\n",
       "      <td>12/2/20</td>\n",
       "      <td>13921913</td>\n",
       "    </tr>\n",
       "    <tr>\n",
       "      <th>276</th>\n",
       "      <td>12/3/20</td>\n",
       "      <td>14139577</td>\n",
       "    </tr>\n",
       "    <tr>\n",
       "      <th>277</th>\n",
       "      <td>12/4/20</td>\n",
       "      <td>14367462</td>\n",
       "    </tr>\n",
       "  </tbody>\n",
       "</table>\n",
       "<p>278 rows × 2 columns</p>\n",
       "</div>"
      ],
      "text/plain": [
       "           ds         y\n",
       "0      3/2/20        55\n",
       "1      3/3/20        74\n",
       "2      3/4/20       107\n",
       "3      3/5/20       184\n",
       "4      3/6/20       237\n",
       "..        ...       ...\n",
       "273  11/30/20  13541221\n",
       "274   12/1/20  13721858\n",
       "275   12/2/20  13921913\n",
       "276   12/3/20  14139577\n",
       "277   12/4/20  14367462\n",
       "\n",
       "[278 rows x 2 columns]"
      ]
     },
     "execution_count": 10,
     "metadata": {},
     "output_type": "execute_result"
    }
   ],
   "source": [
    "df = pd.DataFrame(us_data).reset_index()\n",
    "df.columns = ['ds', 'y']\n",
    "df"
   ]
  },
  {
   "cell_type": "code",
   "execution_count": 20,
   "metadata": {},
   "outputs": [
    {
     "data": {
      "text/html": [
       "<div>\n",
       "<style scoped>\n",
       "    .dataframe tbody tr th:only-of-type {\n",
       "        vertical-align: middle;\n",
       "    }\n",
       "\n",
       "    .dataframe tbody tr th {\n",
       "        vertical-align: top;\n",
       "    }\n",
       "\n",
       "    .dataframe thead th {\n",
       "        text-align: right;\n",
       "    }\n",
       "</style>\n",
       "<table border=\"1\" class=\"dataframe\">\n",
       "  <thead>\n",
       "    <tr style=\"text-align: right;\">\n",
       "      <th></th>\n",
       "      <th>ds</th>\n",
       "      <th>y</th>\n",
       "    </tr>\n",
       "  </thead>\n",
       "  <tbody>\n",
       "    <tr>\n",
       "      <th>0</th>\n",
       "      <td>0</td>\n",
       "      <td>19</td>\n",
       "    </tr>\n",
       "    <tr>\n",
       "      <th>1</th>\n",
       "      <td>1</td>\n",
       "      <td>33</td>\n",
       "    </tr>\n",
       "    <tr>\n",
       "      <th>2</th>\n",
       "      <td>2</td>\n",
       "      <td>77</td>\n",
       "    </tr>\n",
       "    <tr>\n",
       "      <th>3</th>\n",
       "      <td>3</td>\n",
       "      <td>53</td>\n",
       "    </tr>\n",
       "    <tr>\n",
       "      <th>4</th>\n",
       "      <td>4</td>\n",
       "      <td>166</td>\n",
       "    </tr>\n",
       "    <tr>\n",
       "      <th>...</th>\n",
       "      <td>...</td>\n",
       "      <td>...</td>\n",
       "    </tr>\n",
       "    <tr>\n",
       "      <th>272</th>\n",
       "      <td>272</td>\n",
       "      <td>157851</td>\n",
       "    </tr>\n",
       "    <tr>\n",
       "      <th>273</th>\n",
       "      <td>273</td>\n",
       "      <td>180637</td>\n",
       "    </tr>\n",
       "    <tr>\n",
       "      <th>274</th>\n",
       "      <td>274</td>\n",
       "      <td>200055</td>\n",
       "    </tr>\n",
       "    <tr>\n",
       "      <th>275</th>\n",
       "      <td>275</td>\n",
       "      <td>217664</td>\n",
       "    </tr>\n",
       "    <tr>\n",
       "      <th>276</th>\n",
       "      <td>276</td>\n",
       "      <td>227885</td>\n",
       "    </tr>\n",
       "  </tbody>\n",
       "</table>\n",
       "<p>277 rows × 2 columns</p>\n",
       "</div>"
      ],
      "text/plain": [
       "      ds       y\n",
       "0      0      19\n",
       "1      1      33\n",
       "2      2      77\n",
       "3      3      53\n",
       "4      4     166\n",
       "..   ...     ...\n",
       "272  272  157851\n",
       "273  273  180637\n",
       "274  274  200055\n",
       "275  275  217664\n",
       "276  276  227885\n",
       "\n",
       "[277 rows x 2 columns]"
      ]
     },
     "execution_count": 20,
     "metadata": {},
     "output_type": "execute_result"
    }
   ],
   "source": [
    "increase = pd.DataFrame(daily_increases[40:]).reset_index()\n",
    "increase.columns = ['ds', 'y']\n",
    "increase"
   ]
  },
  {
   "cell_type": "code",
   "execution_count": 21,
   "metadata": {},
   "outputs": [],
   "source": [
    "increase['ds'] = df['ds'][:-1]"
   ]
  },
  {
   "cell_type": "code",
   "execution_count": 22,
   "metadata": {},
   "outputs": [
    {
     "data": {
      "text/html": [
       "<div>\n",
       "<style scoped>\n",
       "    .dataframe tbody tr th:only-of-type {\n",
       "        vertical-align: middle;\n",
       "    }\n",
       "\n",
       "    .dataframe tbody tr th {\n",
       "        vertical-align: top;\n",
       "    }\n",
       "\n",
       "    .dataframe thead th {\n",
       "        text-align: right;\n",
       "    }\n",
       "</style>\n",
       "<table border=\"1\" class=\"dataframe\">\n",
       "  <thead>\n",
       "    <tr style=\"text-align: right;\">\n",
       "      <th></th>\n",
       "      <th>ds</th>\n",
       "      <th>y</th>\n",
       "    </tr>\n",
       "  </thead>\n",
       "  <tbody>\n",
       "    <tr>\n",
       "      <th>0</th>\n",
       "      <td>3/2/20</td>\n",
       "      <td>19</td>\n",
       "    </tr>\n",
       "    <tr>\n",
       "      <th>1</th>\n",
       "      <td>3/3/20</td>\n",
       "      <td>33</td>\n",
       "    </tr>\n",
       "    <tr>\n",
       "      <th>2</th>\n",
       "      <td>3/4/20</td>\n",
       "      <td>77</td>\n",
       "    </tr>\n",
       "    <tr>\n",
       "      <th>3</th>\n",
       "      <td>3/5/20</td>\n",
       "      <td>53</td>\n",
       "    </tr>\n",
       "    <tr>\n",
       "      <th>4</th>\n",
       "      <td>3/6/20</td>\n",
       "      <td>166</td>\n",
       "    </tr>\n",
       "    <tr>\n",
       "      <th>...</th>\n",
       "      <td>...</td>\n",
       "      <td>...</td>\n",
       "    </tr>\n",
       "    <tr>\n",
       "      <th>272</th>\n",
       "      <td>11/29/20</td>\n",
       "      <td>157851</td>\n",
       "    </tr>\n",
       "    <tr>\n",
       "      <th>273</th>\n",
       "      <td>11/30/20</td>\n",
       "      <td>180637</td>\n",
       "    </tr>\n",
       "    <tr>\n",
       "      <th>274</th>\n",
       "      <td>12/1/20</td>\n",
       "      <td>200055</td>\n",
       "    </tr>\n",
       "    <tr>\n",
       "      <th>275</th>\n",
       "      <td>12/2/20</td>\n",
       "      <td>217664</td>\n",
       "    </tr>\n",
       "    <tr>\n",
       "      <th>276</th>\n",
       "      <td>12/3/20</td>\n",
       "      <td>227885</td>\n",
       "    </tr>\n",
       "  </tbody>\n",
       "</table>\n",
       "<p>277 rows × 2 columns</p>\n",
       "</div>"
      ],
      "text/plain": [
       "           ds       y\n",
       "0      3/2/20      19\n",
       "1      3/3/20      33\n",
       "2      3/4/20      77\n",
       "3      3/5/20      53\n",
       "4      3/6/20     166\n",
       "..        ...     ...\n",
       "272  11/29/20  157851\n",
       "273  11/30/20  180637\n",
       "274   12/1/20  200055\n",
       "275   12/2/20  217664\n",
       "276   12/3/20  227885\n",
       "\n",
       "[277 rows x 2 columns]"
      ]
     },
     "execution_count": 22,
     "metadata": {},
     "output_type": "execute_result"
    }
   ],
   "source": [
    "increase"
   ]
  },
  {
   "cell_type": "code",
   "execution_count": 23,
   "metadata": {},
   "outputs": [],
   "source": [
    "from copy import deepcopy\n",
    "increase_data = deepcopy(increase)"
   ]
  },
  {
   "cell_type": "code",
   "execution_count": 24,
   "metadata": {},
   "outputs": [
    {
     "name": "stderr",
     "output_type": "stream",
     "text": [
      "INFO:numexpr.utils:NumExpr defaulting to 4 threads.\n"
     ]
    }
   ],
   "source": [
    "increase_data['y'] = increase_data['y']/1e6"
   ]
  },
  {
   "cell_type": "code",
   "execution_count": 25,
   "metadata": {},
   "outputs": [
    {
     "data": {
      "text/html": [
       "<div>\n",
       "<style scoped>\n",
       "    .dataframe tbody tr th:only-of-type {\n",
       "        vertical-align: middle;\n",
       "    }\n",
       "\n",
       "    .dataframe tbody tr th {\n",
       "        vertical-align: top;\n",
       "    }\n",
       "\n",
       "    .dataframe thead th {\n",
       "        text-align: right;\n",
       "    }\n",
       "</style>\n",
       "<table border=\"1\" class=\"dataframe\">\n",
       "  <thead>\n",
       "    <tr style=\"text-align: right;\">\n",
       "      <th></th>\n",
       "      <th>ds</th>\n",
       "      <th>y</th>\n",
       "    </tr>\n",
       "  </thead>\n",
       "  <tbody>\n",
       "    <tr>\n",
       "      <th>0</th>\n",
       "      <td>3/2/20</td>\n",
       "      <td>0.000019</td>\n",
       "    </tr>\n",
       "    <tr>\n",
       "      <th>1</th>\n",
       "      <td>3/3/20</td>\n",
       "      <td>0.000033</td>\n",
       "    </tr>\n",
       "    <tr>\n",
       "      <th>2</th>\n",
       "      <td>3/4/20</td>\n",
       "      <td>0.000077</td>\n",
       "    </tr>\n",
       "    <tr>\n",
       "      <th>3</th>\n",
       "      <td>3/5/20</td>\n",
       "      <td>0.000053</td>\n",
       "    </tr>\n",
       "    <tr>\n",
       "      <th>4</th>\n",
       "      <td>3/6/20</td>\n",
       "      <td>0.000166</td>\n",
       "    </tr>\n",
       "    <tr>\n",
       "      <th>...</th>\n",
       "      <td>...</td>\n",
       "      <td>...</td>\n",
       "    </tr>\n",
       "    <tr>\n",
       "      <th>272</th>\n",
       "      <td>11/29/20</td>\n",
       "      <td>0.157851</td>\n",
       "    </tr>\n",
       "    <tr>\n",
       "      <th>273</th>\n",
       "      <td>11/30/20</td>\n",
       "      <td>0.180637</td>\n",
       "    </tr>\n",
       "    <tr>\n",
       "      <th>274</th>\n",
       "      <td>12/1/20</td>\n",
       "      <td>0.200055</td>\n",
       "    </tr>\n",
       "    <tr>\n",
       "      <th>275</th>\n",
       "      <td>12/2/20</td>\n",
       "      <td>0.217664</td>\n",
       "    </tr>\n",
       "    <tr>\n",
       "      <th>276</th>\n",
       "      <td>12/3/20</td>\n",
       "      <td>0.227885</td>\n",
       "    </tr>\n",
       "  </tbody>\n",
       "</table>\n",
       "<p>277 rows × 2 columns</p>\n",
       "</div>"
      ],
      "text/plain": [
       "           ds         y\n",
       "0      3/2/20  0.000019\n",
       "1      3/3/20  0.000033\n",
       "2      3/4/20  0.000077\n",
       "3      3/5/20  0.000053\n",
       "4      3/6/20  0.000166\n",
       "..        ...       ...\n",
       "272  11/29/20  0.157851\n",
       "273  11/30/20  0.180637\n",
       "274   12/1/20  0.200055\n",
       "275   12/2/20  0.217664\n",
       "276   12/3/20  0.227885\n",
       "\n",
       "[277 rows x 2 columns]"
      ]
     },
     "execution_count": 25,
     "metadata": {},
     "output_type": "execute_result"
    }
   ],
   "source": [
    "increase_data"
   ]
  },
  {
   "cell_type": "code",
   "execution_count": 26,
   "metadata": {},
   "outputs": [],
   "source": [
    "def load_data(data, time_step=7, after_day=1, validate_percent=0.67):\n",
    "    seq_length = time_step + after_day\n",
    "    result = []\n",
    "    for index in range(len(data) - seq_length + 1):\n",
    "        result.append(data[index: index + seq_length])\n",
    "    result = np.array(result)\n",
    "    print('total data: ', result.shape)\n",
    "\n",
    "    train_size = int(len(result) * validate_percent)\n",
    "    train = result[:train_size, :]\n",
    "    validate = result[train_size:, :]\n",
    "\n",
    "    x_train = train[:, :time_step].reshape(-1,n_days,1)\n",
    "    y_train = train[:, time_step:]\n",
    "    x_validate = validate[:, :time_step].reshape(-1,n_days,1)\n",
    "    y_validate = validate[:, time_step:]\n",
    "\n",
    "    return [x_train, y_train, x_validate, y_validate]"
   ]
  },
  {
   "cell_type": "code",
   "execution_count": 27,
   "metadata": {},
   "outputs": [],
   "source": [
    "increase_data = np.array(increase['y'])/1e6"
   ]
  },
  {
   "cell_type": "code",
   "execution_count": 28,
   "metadata": {},
   "outputs": [
    {
     "data": {
      "text/plain": [
       "array([1.90000e-05, 3.30000e-05, 7.70000e-05, 5.30000e-05, 1.66000e-04,\n",
       "       1.16000e-04, 7.50000e-05, 1.88000e-04, 3.65000e-04, 4.39000e-04,\n",
       "       6.33000e-04, 7.59000e-04, 2.34000e-04, 1.46700e-03, 1.83300e-03,\n",
       "       2.65700e-03, 4.49400e-03, 6.36700e-03, 5.99500e-03, 8.83000e-03,\n",
       "       1.12310e-02, 1.06120e-02, 1.20750e-02, 1.78400e-02, 1.86800e-02,\n",
       "       1.96070e-02, 1.88790e-02, 2.20820e-02, 2.63160e-02, 2.58830e-02,\n",
       "       3.03870e-02, 3.19700e-02, 3.30150e-02, 2.81970e-02, 3.01730e-02,\n",
       "       3.14100e-02, 3.21950e-02, 3.45820e-02, 3.34850e-02, 2.93080e-02,\n",
       "       2.69270e-02, 2.58090e-02, 2.85640e-02, 3.01650e-02, 3.14010e-02,\n",
       "       3.26690e-02, 2.79270e-02, 2.56890e-02, 2.84200e-02, 2.60600e-02,\n",
       "       2.93140e-02, 3.31840e-02, 3.37510e-02, 3.15720e-02, 2.68440e-02,\n",
       "       2.31870e-02, 2.46610e-02, 2.78110e-02, 2.94870e-02, 3.42400e-02,\n",
       "       2.77640e-02, 2.44570e-02, 2.33820e-02, 2.45100e-02, 2.50890e-02,\n",
       "       2.77360e-02, 2.67490e-02, 2.49480e-02, 1.88710e-02, 1.94270e-02,\n",
       "       2.27250e-02, 2.09630e-02, 2.71580e-02, 2.52550e-02, 2.40160e-02,\n",
       "       1.83150e-02, 2.19870e-02, 2.10550e-02, 2.30620e-02, 2.58650e-02,\n",
       "       2.33110e-02, 2.11030e-02, 1.99460e-02, 1.83470e-02, 1.94510e-02,\n",
       "       1.85330e-02, 2.28680e-02, 2.42550e-02, 2.38160e-02, 1.90370e-02,\n",
       "       1.69280e-02, 2.13890e-02, 2.00060e-02, 2.13680e-02, 2.53490e-02,\n",
       "       2.14050e-02, 1.76620e-02, 1.74920e-02, 1.83610e-02, 2.09510e-02,\n",
       "       2.30420e-02, 2.49140e-02, 2.52680e-02, 1.90190e-02, 1.94560e-02,\n",
       "       2.36930e-02, 2.64990e-02, 2.78670e-02, 3.09810e-02, 3.19170e-02,\n",
       "       2.59680e-02, 3.06760e-02, 3.62080e-02, 3.44260e-02, 4.03560e-02,\n",
       "       4.53530e-02, 4.13590e-02, 4.04090e-02, 4.00570e-02, 4.59800e-02,\n",
       "       5.14880e-02, 5.55880e-02, 5.18410e-02, 4.55490e-02, 4.95800e-02,\n",
       "       4.41620e-02, 6.07550e-02, 5.97400e-02, 6.25670e-02, 6.78590e-02,\n",
       "       6.00380e-02, 5.90850e-02, 5.87930e-02, 6.74270e-02, 6.76350e-02,\n",
       "       7.71020e-02, 7.16720e-02, 6.24700e-02, 6.07160e-02, 6.14770e-02,\n",
       "       6.42390e-02, 7.19150e-02, 6.85110e-02, 7.32080e-02, 6.53750e-02,\n",
       "       5.48640e-02, 5.59470e-02, 6.57850e-02, 7.18320e-02, 6.75990e-02,\n",
       "       6.79110e-02, 5.78390e-02, 4.62690e-02, 4.45670e-02, 5.72830e-02,\n",
       "       5.44330e-02, 5.94810e-02, 5.83220e-02, 5.44490e-02, 4.63690e-02,\n",
       "       4.87330e-02, 4.69100e-02, 5.68110e-02, 5.17420e-02, 6.47640e-02,\n",
       "       4.67900e-02, 4.11810e-02, 3.64840e-02, 4.50340e-02, 4.73930e-02,\n",
       "       4.40870e-02, 4.82530e-02, 4.36530e-02, 3.45100e-02, 3.64320e-02,\n",
       "       3.99790e-02, 4.55200e-02, 4.51200e-02, 4.69290e-02, 4.54140e-02,\n",
       "       3.47870e-02, 3.51380e-02, 4.16770e-02, 4.09510e-02, 4.37810e-02,\n",
       "       5.01290e-02, 4.31920e-02, 3.15110e-02, 2.35450e-02, 2.68450e-02,\n",
       "       3.38950e-02, 3.60660e-02, 4.74390e-02, 4.10030e-02, 3.43050e-02,\n",
       "       3.38420e-02, 3.93850e-02, 3.84600e-02, 4.49220e-02, 4.87500e-02,\n",
       "       4.25120e-02, 3.84440e-02, 5.14950e-02, 3.94820e-02, 3.85810e-02,\n",
       "       4.57100e-02, 4.80540e-02, 4.43940e-02, 3.72800e-02, 3.22840e-02,\n",
       "       4.26920e-02, 4.11960e-02, 4.53570e-02, 5.44690e-02, 4.86270e-02,\n",
       "       3.60920e-02, 3.88350e-02, 4.39490e-02, 5.06410e-02, 5.83290e-02,\n",
       "       5.59940e-02, 5.40740e-02, 4.59480e-02, 4.05230e-02, 5.28790e-02,\n",
       "       5.94730e-02, 6.43580e-02, 6.84490e-02, 5.69540e-02, 4.93540e-02,\n",
       "       6.68690e-02, 6.10880e-02, 6.30260e-02, 7.53350e-02, 8.09870e-02,\n",
       "       8.28210e-02, 6.18020e-02, 6.65040e-02, 7.60010e-02, 7.86840e-02,\n",
       "       9.01680e-02, 9.85190e-02, 8.89370e-02, 7.55710e-02, 8.34870e-02,\n",
       "       1.24553e-01, 1.02873e-01, 1.26190e-01, 1.25708e-01, 1.28036e-01,\n",
       "       1.10026e-01, 1.21210e-01, 1.37694e-01, 1.43649e-01, 1.61147e-01,\n",
       "       1.77568e-01, 1.66750e-01, 1.35941e-01, 1.57820e-01, 1.60574e-01,\n",
       "       1.70513e-01, 1.88033e-01, 1.95518e-01, 1.78097e-01, 1.42807e-01,\n",
       "       1.71515e-01, 1.72988e-01, 1.81287e-01, 1.10654e-01, 2.05514e-01,\n",
       "       1.55880e-01, 1.38669e-01, 1.57851e-01, 1.80637e-01, 2.00055e-01,\n",
       "       2.17664e-01, 2.27885e-01], dtype=float32)"
      ]
     },
     "execution_count": 28,
     "metadata": {},
     "output_type": "execute_result"
    }
   ],
   "source": [
    "increase_data.astype('float32')"
   ]
  },
  {
   "cell_type": "code",
   "execution_count": 70,
   "metadata": {},
   "outputs": [
    {
     "name": "stdout",
     "output_type": "stream",
     "text": [
      "total data:  (270, 8)\n"
     ]
    }
   ],
   "source": [
    "n_days = 7\n",
    "x_t, y_t, x_v, y_v = load_data(increase_data, n_days, 1, 0.7)"
   ]
  },
  {
   "cell_type": "markdown",
   "metadata": {},
   "source": [
    "## Implement GRU here"
   ]
  },
  {
   "cell_type": "code",
   "execution_count": 31,
   "metadata": {},
   "outputs": [],
   "source": [
    "from keras import backend as K\n",
    "from keras.models import Sequential\n",
    "from keras.layers import Dense, Flatten, GRU\n",
    "import keras.backend as K\n",
    "from keras.callbacks import EarlyStopping\n",
    "from keras.optimizers import Adam\n",
    "from keras.models import load_model"
   ]
  },
  {
   "cell_type": "code",
   "execution_count": 71,
   "metadata": {},
   "outputs": [],
   "source": [
    "K.clear_session()\n",
    "model = Sequential()\n",
    "model.add(GRU(50, input_shape=(n_days, 1), activation='relu', kernel_initializer='lecun_uniform', return_sequences=True))\n",
    "model.add(GRU(50, activation='relu', kernel_initializer='lecun_uniform', return_sequences=True))\n",
    "model.add(GRU(50, activation='relu', kernel_initializer='lecun_uniform', return_sequences=False))\n",
    "model.add(Dense(10))\n",
    "model.add(Dense(1))"
   ]
  },
  {
   "cell_type": "code",
   "execution_count": 72,
   "metadata": {},
   "outputs": [],
   "source": [
    "opt = Adam(lr=1e-3)\n",
    "model.compile(loss='mean_squared_error', optimizer=opt)\n",
    "early_stop = EarlyStopping(monitor='loss', patience=3, verbose=1)"
   ]
  },
  {
   "cell_type": "code",
   "execution_count": 73,
   "metadata": {},
   "outputs": [
    {
     "name": "stdout",
     "output_type": "stream",
     "text": [
      "Epoch 1/30\n",
      "24/24 [==============================] - 0s 10ms/step - loss: 8.5315e-05\n",
      "Epoch 2/30\n",
      "24/24 [==============================] - 0s 8ms/step - loss: 4.6043e-05\n",
      "Epoch 3/30\n",
      "24/24 [==============================] - 0s 8ms/step - loss: 5.3629e-05\n",
      "Epoch 4/30\n",
      "24/24 [==============================] - 0s 9ms/step - loss: 5.8137e-05\n",
      "Epoch 5/30\n",
      "24/24 [==============================] - 0s 9ms/step - loss: 4.2121e-05\n",
      "Epoch 6/30\n",
      "24/24 [==============================] - 0s 9ms/step - loss: 4.1838e-05\n",
      "Epoch 7/30\n",
      "24/24 [==============================] - 0s 9ms/step - loss: 4.2192e-05\n",
      "Epoch 8/30\n",
      "24/24 [==============================] - 0s 9ms/step - loss: 4.0840e-05\n",
      "Epoch 9/30\n",
      "24/24 [==============================] - 0s 9ms/step - loss: 4.3447e-05\n",
      "Epoch 10/30\n",
      "24/24 [==============================] - 0s 9ms/step - loss: 5.6311e-05\n",
      "Epoch 11/30\n",
      "24/24 [==============================] - 0s 9ms/step - loss: 4.1460e-05\n",
      "Epoch 12/30\n",
      "24/24 [==============================] - 0s 9ms/step - loss: 4.0831e-05\n",
      "Epoch 13/30\n",
      "24/24 [==============================] - 0s 9ms/step - loss: 4.0272e-05\n",
      "Epoch 14/30\n",
      "24/24 [==============================] - 0s 8ms/step - loss: 4.6575e-05\n",
      "Epoch 15/30\n",
      "24/24 [==============================] - 0s 8ms/step - loss: 4.5771e-05\n",
      "Epoch 16/30\n",
      "24/24 [==============================] - 0s 9ms/step - loss: 4.1514e-05\n",
      "Epoch 17/30\n",
      "24/24 [==============================] - 0s 9ms/step - loss: 4.3396e-05\n",
      "Epoch 18/30\n",
      "24/24 [==============================] - 0s 9ms/step - loss: 3.9775e-05\n",
      "Epoch 19/30\n",
      "24/24 [==============================] - 0s 9ms/step - loss: 3.5955e-05\n",
      "Epoch 20/30\n",
      "24/24 [==============================] - 0s 10ms/step - loss: 3.4562e-05\n",
      "Epoch 21/30\n",
      "24/24 [==============================] - 0s 9ms/step - loss: 3.6757e-05\n",
      "Epoch 22/30\n",
      "24/24 [==============================] - 0s 10ms/step - loss: 5.2357e-05\n",
      "Epoch 23/30\n",
      "24/24 [==============================] - 0s 11ms/step - loss: 4.5033e-05\n",
      "Epoch 24/30\n",
      "24/24 [==============================] - 0s 11ms/step - loss: 4.6284e-05\n",
      "Epoch 25/30\n",
      "24/24 [==============================] - 0s 10ms/step - loss: 3.6181e-05\n",
      "Epoch 26/30\n",
      "24/24 [==============================] - 0s 11ms/step - loss: 3.4065e-05\n",
      "Epoch 27/30\n",
      "24/24 [==============================] - 0s 9ms/step - loss: 5.3607e-05\n",
      "Epoch 28/30\n",
      "24/24 [==============================] - 0s 11ms/step - loss: 6.3214e-05\n",
      "Epoch 29/30\n",
      "24/24 [==============================] - 0s 9ms/step - loss: 5.6311e-05\n",
      "Epoch 30/30\n",
      "24/24 [==============================] - 0s 10ms/step - loss: 4.3037e-05\n"
     ]
    }
   ],
   "source": [
    "history_model = model.fit(x_t, y_t, epochs=30, batch_size=8,  verbose=1, shuffle=True)#, callbacks=[early_stop])"
   ]
  },
  {
   "cell_type": "code",
   "execution_count": 74,
   "metadata": {},
   "outputs": [],
   "source": [
    "y_pred = model.predict(x_v)*1e6"
   ]
  },
  {
   "cell_type": "code",
   "execution_count": 75,
   "metadata": {},
   "outputs": [
    {
     "data": {
      "text/plain": [
       "array([173578.62], dtype=float32)"
      ]
     },
     "execution_count": 75,
     "metadata": {},
     "output_type": "execute_result"
    }
   ],
   "source": [
    "y_pred[-1]"
   ]
  },
  {
   "cell_type": "code",
   "execution_count": 76,
   "metadata": {},
   "outputs": [
    {
     "data": {
      "image/png": "[encoded data removed]",
      "text/plain": [
       "<Figure size 432x288 with 1 Axes>"
      ]
     },
     "metadata": {
      "needs_background": "light"
     },
     "output_type": "display_data"
    }
   ],
   "source": [
    "plt.plot(np.arange(len(y_t)+1+n_days,len(y_t)+1+n_days+len(y_pred)),y_pred,'r')\n",
    "plt.plot(np.arange(1,len(increase_data)+1), increase_data*1e6,'b--')\n",
    "plt.show()"
   ]
  },
  {
   "cell_type": "code",
   "execution_count": 38,
   "metadata": {},
   "outputs": [
    {
     "name": "stdout",
     "output_type": "stream",
     "text": [
      "(81, 1)\n",
      "(81, 1)\n"
     ]
    }
   ],
   "source": [
    "print(y_pred.shape)\n",
    "print(y_v.shape)"
   ]
  },
  {
   "cell_type": "code",
   "execution_count": 49,
   "metadata": {},
   "outputs": [
    {
     "data": {
      "text/plain": [
       "(277,)"
      ]
     },
     "execution_count": 49,
     "metadata": {},
     "output_type": "execute_result"
    }
   ],
   "source": [
    "increase_data.shape"
   ]
  },
  {
   "cell_type": "code",
   "execution_count": 112,
   "metadata": {},
   "outputs": [],
   "source": [
    "cumulative = deepcopy(df['y'])\n",
    "inc = deepcopy(increase_data)"
   ]
  },
  {
   "cell_type": "code",
   "execution_count": 113,
   "metadata": {},
   "outputs": [
    {
     "data": {
      "text/plain": [
       "(278,)"
      ]
     },
     "execution_count": 113,
     "metadata": {},
     "output_type": "execute_result"
    }
   ],
   "source": [
    "cumulative = np.array(cumulative)\n",
    "cumulative.shape"
   ]
  },
  {
   "cell_type": "code",
   "execution_count": 114,
   "metadata": {},
   "outputs": [
    {
     "data": {
      "text/plain": [
       "(277,)"
      ]
     },
     "execution_count": 114,
     "metadata": {},
     "output_type": "execute_result"
    }
   ],
   "source": [
    "inc.shape"
   ]
  },
  {
   "cell_type": "code",
   "execution_count": 115,
   "metadata": {},
   "outputs": [
    {
     "data": {
      "text/plain": [
       "14367462"
      ]
     },
     "execution_count": 115,
     "metadata": {},
     "output_type": "execute_result"
    }
   ],
   "source": [
    "cumulative[-1]"
   ]
  },
  {
   "cell_type": "code",
   "execution_count": 116,
   "metadata": {},
   "outputs": [
    {
     "data": {
      "text/plain": [
       "0.227885"
      ]
     },
     "execution_count": 116,
     "metadata": {},
     "output_type": "execute_result"
    }
   ],
   "source": [
    "inc[-1]"
   ]
  },
  {
   "cell_type": "code",
   "execution_count": 120,
   "metadata": {},
   "outputs": [],
   "source": [
    "def predict_future(cumulative, data, days = 30):\n",
    "    for i in range(days):\n",
    "        new_x = data[-n_days:].reshape(1,n_days,1)\n",
    "        new_y = model.predict(new_x)[0][0]\n",
    "        #print(new_y)\n",
    "        data = np.append(data, np.array(new_y))\n",
    "        last_day_cumul = int(new_y*1e6) + cumulative[-1]\n",
    "        #cumulative = np.append(cumulative, last_day_cumul)\n",
    "        print(cumulative[-1])\n",
    "    return [cumulative, data]"
   ]
  },
  {
   "cell_type": "code",
   "execution_count": 121,
   "metadata": {},
   "outputs": [
    {
     "name": "stdout",
     "output_type": "stream",
     "text": [
      "0.18253058\n",
      "14549992\n",
      "0.18179117\n",
      "14731783\n",
      "0.17941906\n",
      "14911202\n",
      "0.17663924\n",
      "15087841\n",
      "0.17358682\n",
      "15261427\n",
      "0.17004943\n",
      "15431476\n",
      "0.16561595\n",
      "15597091\n",
      "0.16095208\n",
      "15758043\n",
      "0.15779205\n",
      "15915835\n",
      "0.15460536\n",
      "16070440\n",
      "0.15152913\n",
      "16221969\n",
      "0.14851528\n",
      "16370484\n",
      "0.14558567\n",
      "16516069\n",
      "0.14276107\n",
      "16658830\n",
      "0.14008307\n",
      "16798913\n",
      "0.13755372\n",
      "16936466\n",
      "0.13512282\n",
      "17071588\n",
      "0.1327918\n",
      "17204379\n",
      "0.13055503\n",
      "17334934\n",
      "0.12835221\n",
      "17463286\n",
      "0.1262315\n",
      "17589517\n",
      "0.12418656\n",
      "17713703\n",
      "0.12221408\n",
      "17835917\n",
      "0.12031157\n",
      "17956228\n",
      "0.11847513\n",
      "18074703\n",
      "0.11670078\n",
      "18191403\n",
      "0.11496862\n",
      "18306371\n",
      "0.113267735\n",
      "18419638\n",
      "0.111615\n",
      "18531253\n",
      "0.11000794\n",
      "18641260\n"
     ]
    }
   ],
   "source": [
    "cc, dd = predict_future(cumulative, inc, 30)"
   ]
  },
  {
   "cell_type": "code",
   "execution_count": 122,
   "metadata": {},
   "outputs": [
    {
     "data": {
      "text/plain": [
       "(308,)"
      ]
     },
     "execution_count": 122,
     "metadata": {},
     "output_type": "execute_result"
    }
   ],
   "source": [
    "cc.shape"
   ]
  },
  {
   "cell_type": "code",
   "execution_count": 123,
   "metadata": {},
   "outputs": [
    {
     "data": {
      "text/plain": [
       "(307,)"
      ]
     },
     "execution_count": 123,
     "metadata": {},
     "output_type": "execute_result"
    }
   ],
   "source": [
    "dd.shape"
   ]
  },
  {
   "cell_type": "code",
   "execution_count": 124,
   "metadata": {},
   "outputs": [
    {
     "data": {
      "text/plain": [
       "array([55, 74, 107, 184, 237, 403, 519, 594, 782, 1147, 1586, 2219, 2978,\n",
       "       3212, 4679, 6512, 9169, 13663, 20030, 26025, 34855, 46086, 56698,\n",
       "       68773, 86613, 105293, 124900, 143779, 165861, 192177, 218060,\n",
       "       248447, 280417, 313432, 341629, 371802, 403212, 435407, 469989,\n",
       "       503474, 532782, 559709, 585518, 614082, 644247, 675648, 708317,\n",
       "       736244, 761933, 790353, 816413, 845727, 878911, 912662, 944234,\n",
       "       971078, 994265, 1018926, 1046737, 1076224, 1110464, 1138228,\n",
       "       1162685, 1186067, 1210577, 1235666, 1263402, 1290151, 1315099,\n",
       "       1333970, 1353397, 1376122, 1397085, 1424243, 1449498, 1473514,\n",
       "       1491829, 1513816, 1534871, 1557933, 1583798, 1607109, 1628212,\n",
       "       1648158, 1666505, 1685956, 1704489, 1727357, 1751612, 1775428,\n",
       "       1794465, 1811393, 1832782, 1852788, 1874156, 1899505, 1920910,\n",
       "       1938572, 1956064, 1974425, 1995376, 2018418, 2043332, 2068600,\n",
       "       2087619, 2107075, 2130768, 2157267, 2185134, 2216115, 2248032,\n",
       "       2274000, 2304676, 2340884, 2375310, 2415666, 2461019, 2502378,\n",
       "       2542787, 2582844, 2628824, 2680312, 2735900, 2787741, 2833290,\n",
       "       2882870, 2927032, 2987787, 3047527, 3110094, 3177953, 3237991,\n",
       "       3297076, 3355869, 3423296, 3490931, 3568033, 3639705, 3702175,\n",
       "       3762891, 3824368, 3888607, 3960522, 4029033, 4102241, 4167616,\n",
       "       4222480, 4278427, 4344212, 4416044, 4483643, 4551554, 4609393,\n",
       "       4655662, 4700229, 4757512, 4811945, 4871426, 4929748, 4984197,\n",
       "       5030566, 5079299, 5126209, 5183020, 5234762, 5299526, 5346316,\n",
       "       5387497, 5423981, 5469015, 5516408, 5560495, 5608748, 5652401,\n",
       "       5686911, 5723343, 5763322, 5808842, 5853962, 5900891, 5946305,\n",
       "       5981092, 6016230, 6057907, 6098858, 6142639, 6192768, 6235960,\n",
       "       6267471, 6291016, 6317861, 6351756, 6387822, 6435261, 6476264,\n",
       "       6510569, 6544411, 6583796, 6622256, 6667178, 6715928, 6758440,\n",
       "       6796884, 6848379, 6887861, 6926442, 6972152, 7020206, 7064600,\n",
       "       7101880, 7134164, 7176856, 7218052, 7263409, 7317878, 7366505,\n",
       "       7402597, 7441432, 7485381, 7536022, 7594351, 7650345, 7704419,\n",
       "       7750367, 7790890, 7843769, 7903242, 7967600, 8036049, 8093003,\n",
       "       8142357, 8209226, 8270314, 8333340, 8408675, 8489662, 8572483,\n",
       "       8634285, 8700789, 8776790, 8855474, 8945642, 9044161, 9133098,\n",
       "       9208669, 9292156, 9416709, 9519582, 9645772, 9771480, 9899516,\n",
       "       10009542, 10130752, 10268446, 10412095, 10573242, 10750810,\n",
       "       10917560, 11053501, 11211321, 11371895, 11542408, 11730441,\n",
       "       11925959, 12104056, 12246863, 12418378, 12591366, 12772653,\n",
       "       12883307, 13088821, 13244701, 13383370, 13541221, 13721858,\n",
       "       13921913, 14139577, 14367462, 14549992, 14731783, 14911202,\n",
       "       15087841, 15261427, 15431476, 15597091, 15758043, 15915835,\n",
       "       16070440, 16221969, 16370484, 16516069, 16658830, 16798913,\n",
       "       16936466, 17071588, 17204379, 17334934, 17463286, 17589517,\n",
       "       17713703, 17835917, 17956228, 18074703, 18191403, 18306371,\n",
       "       18419638, 18531253, 18641260], dtype=object)"
      ]
     },
     "execution_count": 124,
     "metadata": {},
     "output_type": "execute_result"
    }
   ],
   "source": [
    "cc"
   ]
  },
  {
   "cell_type": "code",
   "execution_count": 148,
   "metadata": {},
   "outputs": [
    {
     "data": {
      "image/png": "[encoded data removed]",
      "text/plain": [
       "<Figure size 432x288 with 1 Axes>"
      ]
     },
     "metadata": {
      "needs_background": "light"
     },
     "output_type": "display_data"
    }
   ],
   "source": [
    "plt.plot(np.arange(1,len(cc)+1),cc,'r')\n",
    "plt.plot(np.arange(1,len(us_data)+1), np.array(us_data.values),'b')\n",
    "plt.show()"
   ]
  },
  {
   "cell_type": "code",
   "execution_count": 150,
   "metadata": {},
   "outputs": [],
   "source": [
    "model.save('GRU_daily_increase.h5')"
   ]
  },
  {
   "cell_type": "code",
   "execution_count": null,
   "metadata": {},
   "outputs": [],
   "source": []
  }
 ],
 "metadata": {
  "kernelspec": {
   "display_name": "Python 3",
   "language": "python",
   "name": "python3"
  },
  "language_info": {
   "codemirror_mode": {
    "name": "ipython",
    "version": 3
   },
   "file_extension": ".py",
   "mimetype": "text/x-python",
   "name": "python",
   "nbconvert_exporter": "python",
   "pygments_lexer": "ipython3",
   "version": "3.7.4"
  }
 },
 "nbformat": 4,
 "nbformat_minor": 2
}
